{
 "cells": [
  {
   "cell_type": "code",
   "execution_count": 4,
   "metadata": {},
   "outputs": [],
   "source": [
    "import win32com.client as win32\n",
    "import random\n",
    "\n",
    "outlook = win32.Dispatch('outlook.application')\n",
    "\n",
    "email = outlook.CreateItem(0)\n",
    "code = random.randint(2460, 9754)\n",
    "\n",
    "email.To = 'seuemaildecontato@gmail.com'\n",
    "email.Subject = 'Recuperação de Senha'\n",
    "email.HTMLBody = f'''\n",
    "\n",
    "<p>Olá! Aqui está seu código de recuperação.</p>\n",
    "\n",
    "                <h1>{code}</h1>\n",
    "'''\n",
    "\n",
    "email.Send()\n"
   ]
  }
 ],
 "metadata": {
  "kernelspec": {
   "display_name": "Python 3",
   "language": "python",
   "name": "python3"
  },
  "language_info": {
   "codemirror_mode": {
    "name": "ipython",
    "version": 3
   },
   "file_extension": ".py",
   "mimetype": "text/x-python",
   "name": "python",
   "nbconvert_exporter": "python",
   "pygments_lexer": "ipython3",
   "version": "3.11.3"
  },
  "orig_nbformat": 4
 },
 "nbformat": 4,
 "nbformat_minor": 2
}
